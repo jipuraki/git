{
  "nbformat": 4,
  "nbformat_minor": 0,
  "metadata": {
    "colab": {
      "name": "구글코랩 사용방법.ipynb",
      "provenance": [],
      "collapsed_sections": [],
      "authorship_tag": "ABX9TyNoEWEqxKMLFJDxDAu9MIvi",
      "include_colab_link": true
    },
    "kernelspec": {
      "name": "python3",
      "display_name": "Python 3"
    },
    "language_info": {
      "name": "python"
    }
  },
  "cells": [
    {
      "cell_type": "markdown",
      "metadata": {
        "id": "view-in-github",
        "colab_type": "text"
      },
      "source": [
        "<a href=\"https://colab.research.google.com/github/jipuraki/git/blob/master/%EA%B5%AC%EA%B8%80%EC%BD%94%EB%9E%A9_%EC%82%AC%EC%9A%A9%EB%B0%A9%EB%B2%95.ipynb\" target=\"_parent\"><img src=\"https://colab.research.google.com/assets/colab-badge.svg\" alt=\"Open In Colab\"/></a>"
      ]
    },
    {
      "cell_type": "markdown",
      "metadata": {
        "id": "ZUkarpFlVCj9"
      },
      "source": [
        "#구글 코랩 사용하기\n",
        "* 구글 코랩이란?\n",
        "  - 구글에서 클라우드 기반의 Jupyter Notebook 개발환경을 제공해 주는 것이다.\n",
        "  - 줄여서 코랩(Colab)이라고도 한다.\n",
        "  - 브라우저에서 Python을 작성하고 실행할 수 있다.\n",
        "  - Colab 메모장을 사용하면 실행코드와 텍스트를 이미지, HTML, LaTeX 등과 함께 하나의 문서로 통합할 수 있다. \n",
        "  - 구성이 필요하지 않음\n",
        "  - GPU 무료 엑세스\n",
        "  - 간편한 공유\n",
        "  \n",
        "* 구글 코랩 설치하기\n",
        "  - 구글에 접속하여 로그인 한다.\n",
        "  - 구글드라이브로 들어간다.\n",
        "  - \"+새로만들기\" 클릭 --> 더보기 --> \"+연결할 앱 더보기\" --> 검색창에 \"Colab\" 입력 후 엔터 --> Colaboratory 클릭하여 설치\n",
        "  \n",
        "* 구글 코랩 사용하기\n",
        "  - 구글드라이브 에서 확장자가 *.ipynb 인 파일을 더블클릭하면 Colab환경으로 이동하여 해당 파일이 열린다.\n",
        "  - 새로운 파일을 만들고자 할 경우 구글드라이브에서 \"+새로만들기\"클릭하여 \"Google Colaboratory\" 메뉴로 이동한다.\n",
        "  - 파일명은 왼쪽 상단에 .ipynb 앞부분을 직접 수정입력하면 된다.\n",
        "   \n"
      ]
    },
    {
      "cell_type": "markdown",
      "metadata": {
        "id": "MXElCAbWhTZB"
      },
      "source": [
        "# Hello World 예시\n",
        "좌측 상단에 \"+코드\" 클릭하고,\n",
        "아래와 같이 코드를 입력한 후 코드 좌측에 있는 Play 아이콘을 클릭하면 하단에 실행 결과가 출력된다. "
      ]
    },
    {
      "cell_type": "code",
      "metadata": {
        "colab": {
          "base_uri": "https://localhost:8080/"
        },
        "id": "nni6yztRUD-c",
        "outputId": "cc06264c-7ca1-4aa4-c273-e219b30c5bd1"
      },
      "source": [
        "print(\"Hello World\")"
      ],
      "execution_count": 6,
      "outputs": [
        {
          "output_type": "stream",
          "text": [
            "Hello World\n"
          ],
          "name": "stdout"
        }
      ]
    },
    {
      "cell_type": "markdown",
      "metadata": {
        "id": "44jNLfGOhLuV"
      },
      "source": [
        "# 그래프 그리기 예시\n",
        "먼저 한글이 보여지게 하려면 최초 1회 아래와 같은 코드를 입력해서 실행해 주어야 한글이 깨지지 않는다. "
      ]
    },
    {
      "cell_type": "code",
      "metadata": {
        "id": "MZ7G0rBRiw6C"
      },
      "source": [
        "!sudo apt-get install -y fonts-nanum\n",
        "!sudo fc-cache -fv\n",
        "!rm ~/.cache/matplotlib -rf"
      ],
      "execution_count": null,
      "outputs": []
    },
    {
      "cell_type": "markdown",
      "metadata": {
        "id": "7mxPuin6iz2-"
      },
      "source": [
        "이제 그래프를 그리기 위한 코드를 아래와 같이 입력한 후 실행하면 된다."
      ]
    },
    {
      "cell_type": "code",
      "metadata": {
        "colab": {
          "base_uri": "https://localhost:8080/",
          "height": 513
        },
        "id": "Z_SC3IsLWNw2",
        "outputId": "b4cc85ca-40ca-4227-e1c2-ad8a3b0f1b79"
      },
      "source": [
        "import matplotlib.pyplot as plt\n",
        "\n",
        "plt.rc('font', family='NanumBarunGothic')\n",
        "plt.plot(['국어', '영어', '수학', '과학'], [90,70,85,80])\n",
        "plt.show()\n",
        "plt.bar(['국어', '영어', '수학', '과학'], [90,70,85,80])\n",
        "plt.show()\n"
      ],
      "execution_count": 7,
      "outputs": [
        {
          "output_type": "display_data",
          "data": {
            "image/png": "[encoded data removed]",
            "text/plain": [
              "<Figure size 432x288 with 1 Axes>"
            ]
          },
          "metadata": {
            "tags": [],
            "needs_background": "light"
          }
        },
        {
          "output_type": "display_data",
          "data": {
            "image/png": "[encoded data removed]",
            "text/plain": [
              "<Figure size 432x288 with 1 Axes>"
            ]
          },
          "metadata": {
            "tags": [],
            "needs_background": "light"
          }
        }
      ]
    }
  ]
}